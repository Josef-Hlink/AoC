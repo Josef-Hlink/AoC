{
 "cells": [
  {
   "cell_type": "markdown",
   "metadata": {},
   "source": [
    "# Part2 completion"
   ]
  },
  {
   "cell_type": "code",
   "execution_count": null,
   "metadata": {},
   "outputs": [],
   "source": [
    "from paoc.constants import ROOT, COOKIE, PAOC\n",
    "import os\n",
    "import re\n",
    "import pandas as pd\n",
    "from datetime import datetime\n",
    "import matplotlib.pyplot as plt; plt.style.use('seaborn-v0_8')"
   ]
  },
  {
   "cell_type": "code",
   "execution_count": null,
   "metadata": {},
   "outputs": [],
   "source": [
    "os.system(f'curl https://adventofcode.com/2023/stats -H \"cookie: session={COOKIE}\" > {ROOT / \"stats.html\"}')\n",
    "\n",
    "with open(ROOT / 'stats.html', 'r') as f:\n",
    "    lines = f.read().splitlines()\n",
    "\n",
    "timestamp = datetime.fromtimestamp(os.path.getmtime(ROOT / 'stats.html'))\n",
    "timestamp = timestamp.utcfromtimestamp(timestamp.timestamp()).strftime(\"%Y-%m-%d %H:%M:%S\")\n",
    "\n",
    "os.system(f'rm {ROOT / \"stats.html\"}')\n",
    "\n",
    "df = pd.DataFrame(columns=['both', 'first_only'])\n",
    "\n",
    "for line in filter(lambda x: x.startswith('<a href=\"/2023/day/'), lines):\n",
    "    hits = re.finditer(r'(?:<[^>]*>|\\b(\\w+)\\b)', line)\n",
    "    day, both, first_only, *_ = (hit.group() for hit in hits if not hit.group().startswith('<'))\n",
    "    df.loc[int(day)] = [int(both), int(first_only)]\n",
    "\n",
    "df = df.sort_index()\n",
    "\n",
    "df['only_first_p'] = (1 - (df['both'] / (df['both'] + df['first_only']))) * 100"
   ]
  },
  {
   "cell_type": "code",
   "execution_count": null,
   "metadata": {},
   "outputs": [],
   "source": [
    "aoc_bg = '#222222'\n",
    "aoc_white = '#ffffff'\n",
    "aoc_green = '#00ff00'\n",
    "aoc_silver = '#9e9e9e'\n",
    "aoc_gold = '#ffd700'\n",
    "\n",
    "fig, ax = plt.subplots()\n",
    "\n",
    "fig.set_facecolor(aoc_bg)\n",
    "fig.suptitle('Part 2 difficulty', color=aoc_green, fontsize=16, fontweight='bold')\n",
    "\n",
    "ax.set_title(f'AoC stats as of {timestamp} [UTC]', color=aoc_white)\n",
    "ax.set_facecolor(aoc_bg)\n",
    "\n",
    "ax.set_xlabel('day', color=aoc_green)\n",
    "ax.set_xticks(df.index)\n",
    "ax.set_xticklabels(df.index, color=aoc_white)\n",
    "\n",
    "ax.set_ylabel('% of users that\\ndid not complete p2', color=aoc_green)\n",
    "yticks = range(0, df['only_first_p'].max().astype(int) + 1, 5)\n",
    "ax.set_yticks(yticks)\n",
    "ax.set_yticklabels(yticks, color=aoc_white)\n",
    "\n",
    "ax.bar(df.index, df['only_first_p'], color=aoc_silver, edgecolor=aoc_gold, linewidth=1.5)\n",
    "ax.grid(alpha=0.1)\n",
    "\n",
    "fig.tight_layout()\n",
    "fig.savefig(PAOC / 'misc' / 'part2completion.png', facecolor=fig.get_facecolor(), dpi=500)"
   ]
  }
 ],
 "metadata": {
  "kernelspec": {
   "display_name": "venv",
   "language": "python",
   "name": "python3"
  },
  "language_info": {
   "codemirror_mode": {
    "name": "ipython",
    "version": 3
   },
   "file_extension": ".py",
   "mimetype": "text/x-python",
   "name": "python",
   "nbconvert_exporter": "python",
   "pygments_lexer": "ipython3",
   "version": "3.12.0"
  }
 },
 "nbformat": 4,
 "nbformat_minor": 2
}
