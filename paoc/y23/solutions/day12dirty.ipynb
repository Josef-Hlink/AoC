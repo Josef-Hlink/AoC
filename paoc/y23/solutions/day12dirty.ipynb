{
 "cells": [
  {
   "cell_type": "markdown",
   "metadata": {},
   "source": [
    "# Playground"
   ]
  },
  {
   "cell_type": "code",
   "execution_count": 1,
   "metadata": {},
   "outputs": [],
   "source": [
    "from paoc.helper import get_input, parse_multiline_string as pms\n",
    "lines = get_input()"
   ]
  },
  {
   "cell_type": "code",
   "execution_count": 2,
   "metadata": {},
   "outputs": [],
   "source": [
    "ex_lines = pms(\"\"\"\n",
    "???.### 1,1,3\n",
    ".??..??...?##. 1,1,3\n",
    "?#?#?#?#?#?#?#? 1,3,1,6\n",
    "????.#...#... 4,1,1\n",
    "????.######..#####. 1,6,5\n",
    "?###???????? 3,2,1\n",
    "\"\"\")"
   ]
  },
  {
   "cell_type": "code",
   "execution_count": 3,
   "metadata": {},
   "outputs": [],
   "source": [
    "import re\n",
    "import itertools\n",
    "from tqdm import tqdm"
   ]
  },
  {
   "cell_type": "code",
   "execution_count": 4,
   "metadata": {},
   "outputs": [
    {
     "data": {
      "text/plain": [
       "21"
      ]
     },
     "execution_count": 4,
     "metadata": {},
     "output_type": "execute_result"
    }
   ],
   "source": [
    "def binary_combinations(indices: list[int]) -> list[dict[int, tuple[str, str]]]:\n",
    "    return [{i: v for i, v in zip(indices, comb)} for comb in itertools.product(['.', '#'], repeat=len(indices))]\n",
    "\n",
    "doc = ex_lines\n",
    "res = 0\n",
    "for line in doc:\n",
    "    springs, groups = line.split()\n",
    "    groups = tuple(int(group) for group in groups.split(','))\n",
    "    indices = [i for i, s in enumerate(springs) if s == '?']\n",
    "    valid_combs = 0\n",
    "    for comb in binary_combinations(indices):\n",
    "        springs_ = list(springs)\n",
    "        for i, char in comb.items():\n",
    "            springs_[i] = char\n",
    "        groups_ = tuple(group.end()-group.start() for group in re.finditer('#+', ''.join(springs_)))\n",
    "        valid_combs += groups_ == groups\n",
    "    res += valid_combs\n",
    "res"
   ]
  },
  {
   "cell_type": "code",
   "execution_count": 5,
   "metadata": {},
   "outputs": [],
   "source": [
    "from functools import cache\n",
    "\n",
    "O, D = '.', '#'\n",
    "\n",
    "def get_blocks(springs: str) -> tuple[int]:\n",
    "    blocks = []\n",
    "    size = 0\n",
    "    for spring in springs:\n",
    "        if spring == D:\n",
    "            size += 1\n",
    "        else:\n",
    "            if size:\n",
    "                blocks.append(size)\n",
    "            size = 0\n",
    "    if size:\n",
    "        blocks.append(size)\n",
    "    blocks = tuple(blocks)\n",
    "    return blocks\n",
    "\n",
    "@cache\n",
    "def count_arrangements_1(blocks: tuple[int], springs: str, current: str) -> int:\n",
    "    \"\"\"\n",
    "    - blocks is the signature of '#'-block lengths we want to match against\n",
    "    - springs is the original line\n",
    "    - current is the version of springs we're building\n",
    "    \"\"\"\n",
    "    i = len(current)\n",
    "    if i == len(springs):\n",
    "        c_blocks = get_blocks(current)\n",
    "        return c_blocks == blocks\n",
    "    else:\n",
    "        # early stop\n",
    "        if current and current[i-1] == '.':\n",
    "            c_blocks = get_blocks(current)\n",
    "            if c_blocks and c_blocks != blocks[:len(c_blocks)]:\n",
    "                return 0\n",
    "    \n",
    "    count = 0\n",
    "    char = springs[i]\n",
    "\n",
    "    if char == '?':\n",
    "        count += count_arrangements_1(blocks, springs, current + '.')\n",
    "        count += count_arrangements_1(blocks, springs, current + '#')\n",
    "    else:\n",
    "        count += count_arrangements_1(blocks, springs, current + char)\n",
    "\n",
    "    return count"
   ]
  },
  {
   "cell_type": "code",
   "execution_count": 6,
   "metadata": {},
   "outputs": [
    {
     "name": "stderr",
     "output_type": "stream",
     "text": [
      "100%|██████████| 1000/1000 [00:00<00:00, 3122.27it/s]\n"
     ]
    },
    {
     "data": {
      "text/plain": [
       "7490"
      ]
     },
     "execution_count": 6,
     "metadata": {},
     "output_type": "execute_result"
    }
   ],
   "source": [
    "doc = lines\n",
    "res = 0\n",
    "for line in tqdm(doc, total=len(doc)):\n",
    "    springs, blocks = line.split()\n",
    "    blocks = tuple(int(block) for block in blocks.split(','))\n",
    "    n_valid = count_arrangements_1(blocks, springs, '')\n",
    "    res += n_valid\n",
    "res"
   ]
  },
  {
   "cell_type": "code",
   "execution_count": 7,
   "metadata": {},
   "outputs": [
    {
     "name": "stderr",
     "output_type": "stream",
     "text": [
      "100%|██████████| 6/6 [00:19<00:00,  3.18s/it]\n"
     ]
    },
    {
     "data": {
      "text/plain": [
       "525152"
      ]
     },
     "execution_count": 7,
     "metadata": {},
     "output_type": "execute_result"
    }
   ],
   "source": [
    "doc = ex_lines\n",
    "res = 0\n",
    "for line in tqdm(doc, total=len(doc)):\n",
    "    springs, groups = line.split()\n",
    "    groups = tuple(int(group) for group in groups.split(','))\n",
    "    # for part 2, we multiply both springs and groups by 5\n",
    "    springs = '?'.join([springs]*5)\n",
    "    groups = groups * 5\n",
    "    n_valid = count_arrangements_1(groups, springs, '')\n",
    "    res += n_valid\n",
    "res"
   ]
  },
  {
   "cell_type": "code",
   "execution_count": 8,
   "metadata": {},
   "outputs": [
    {
     "name": "stderr",
     "output_type": "stream",
     "text": [
      "100%|██████████| 1000/1000 [00:00<00:00, 1119.82it/s]\n"
     ]
    },
    {
     "data": {
      "text/plain": [
       "65607131946466"
      ]
     },
     "execution_count": 8,
     "metadata": {},
     "output_type": "execute_result"
    }
   ],
   "source": [
    "from functools import cache\n",
    "\n",
    "@cache\n",
    "def count_arrangements_2(springs: str, blocks: tuple[int]) -> int:\n",
    "    \"\"\" first call is with original springs string, and all blocks, they both get shorter until consumed \"\"\"\n",
    "    # no more springs left\n",
    "    if springs == '':\n",
    "        return blocks == ()\n",
    "    # no more blocks left\n",
    "    if blocks == ():\n",
    "        return '#' not in springs\n",
    "    \n",
    "    count = 0\n",
    "\n",
    "    if springs[0] in '.?':\n",
    "        # nothing happens to the blocks, we just move on to the next index of springs\n",
    "        count += count_arrangements_2(springs[1:], blocks)\n",
    "    if springs[0] in '#?':\n",
    "        # check if enough springs left for current block\n",
    "        if blocks[0] <= len(springs):\n",
    "            # check if all next n springs are actually broken (or might be broken)\n",
    "            if '.' not in springs[:blocks[0]]:\n",
    "                # check if spring after that is operational (or might be) (or there is no spring after)\n",
    "                if blocks[0] == len(springs) or springs[blocks[0]] in '.?':\n",
    "                    count += count_arrangements_2(springs[blocks[0] + 1:], blocks[1:])\n",
    "        \n",
    "    return count\n",
    "\n",
    "\n",
    "doc = lines\n",
    "res = 0\n",
    "for line in tqdm(doc, total=len(doc)):\n",
    "    springs, groups = line.split()\n",
    "    groups = tuple(map(int, groups.split(',')))\n",
    "    # for part 2, we multiply both springs and groups by 5\n",
    "    springs = '?'.join([springs]*5)\n",
    "    groups = groups * 5\n",
    "    n_valid = count_arrangements_2(springs, groups)\n",
    "    res += n_valid\n",
    "res"
   ]
  }
 ],
 "metadata": {
  "kernelspec": {
   "display_name": "venv",
   "language": "python",
   "name": "python3"
  },
  "language_info": {
   "codemirror_mode": {
    "name": "ipython",
    "version": 3
   },
   "file_extension": ".py",
   "mimetype": "text/x-python",
   "name": "python",
   "nbconvert_exporter": "python",
   "pygments_lexer": "ipython3",
   "version": "3.12.0"
  }
 },
 "nbformat": 4,
 "nbformat_minor": 2
}
